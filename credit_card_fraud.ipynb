{
 "cells": [
  {
   "cell_type": "code",
   "execution_count": 1,
   "id": "8ca87a03-b350-4cea-a886-e59e385f9c5b",
   "metadata": {},
   "outputs": [],
   "source": [
    "import pandas as pd\n",
    "import numpy as np\n",
    "import matplotlib.pyplot as plt\n",
    "import seaborn as sns\n",
    "\n",
    "import tensorflow"
   ]
  },
  {
   "cell_type": "code",
   "execution_count": 2,
   "id": "287b92f2-7878-4010-bf7d-3dc29da0c446",
   "metadata": {},
   "outputs": [],
   "source": [
    "data = pd.read_csv('creditcard.csv')"
   ]
  },
  {
   "cell_type": "markdown",
   "id": "b1418b78-ff36-4cb0-9e8b-55ef1da9609a",
   "metadata": {},
   "source": [
    "# DATA Exploration"
   ]
  },
  {
   "cell_type": "code",
   "execution_count": 3,
   "id": "38aa04ae-5204-4a6c-9f94-f3b170fcadb8",
   "metadata": {},
   "outputs": [
    {
     "data": {
      "text/html": [
       "<div>\n",
       "<style scoped>\n",
       "    .dataframe tbody tr th:only-of-type {\n",
       "        vertical-align: middle;\n",
       "    }\n",
       "\n",
       "    .dataframe tbody tr th {\n",
       "        vertical-align: top;\n",
       "    }\n",
       "\n",
       "    .dataframe thead th {\n",
       "        text-align: right;\n",
       "    }\n",
       "</style>\n",
       "<table border=\"1\" class=\"dataframe\">\n",
       "  <thead>\n",
       "    <tr style=\"text-align: right;\">\n",
       "      <th></th>\n",
       "      <th>Time</th>\n",
       "      <th>V1</th>\n",
       "      <th>V2</th>\n",
       "      <th>V3</th>\n",
       "      <th>V4</th>\n",
       "      <th>V5</th>\n",
       "      <th>V6</th>\n",
       "      <th>V7</th>\n",
       "      <th>V8</th>\n",
       "      <th>V9</th>\n",
       "      <th>...</th>\n",
       "      <th>V21</th>\n",
       "      <th>V22</th>\n",
       "      <th>V23</th>\n",
       "      <th>V24</th>\n",
       "      <th>V25</th>\n",
       "      <th>V26</th>\n",
       "      <th>V27</th>\n",
       "      <th>V28</th>\n",
       "      <th>Amount</th>\n",
       "      <th>Class</th>\n",
       "    </tr>\n",
       "  </thead>\n",
       "  <tbody>\n",
       "    <tr>\n",
       "      <th>0</th>\n",
       "      <td>0.0</td>\n",
       "      <td>-1.359807</td>\n",
       "      <td>-0.072781</td>\n",
       "      <td>2.536347</td>\n",
       "      <td>1.378155</td>\n",
       "      <td>-0.338321</td>\n",
       "      <td>0.462388</td>\n",
       "      <td>0.239599</td>\n",
       "      <td>0.098698</td>\n",
       "      <td>0.363787</td>\n",
       "      <td>...</td>\n",
       "      <td>-0.018307</td>\n",
       "      <td>0.277838</td>\n",
       "      <td>-0.110474</td>\n",
       "      <td>0.066928</td>\n",
       "      <td>0.128539</td>\n",
       "      <td>-0.189115</td>\n",
       "      <td>0.133558</td>\n",
       "      <td>-0.021053</td>\n",
       "      <td>149.62</td>\n",
       "      <td>0</td>\n",
       "    </tr>\n",
       "    <tr>\n",
       "      <th>1</th>\n",
       "      <td>0.0</td>\n",
       "      <td>1.191857</td>\n",
       "      <td>0.266151</td>\n",
       "      <td>0.166480</td>\n",
       "      <td>0.448154</td>\n",
       "      <td>0.060018</td>\n",
       "      <td>-0.082361</td>\n",
       "      <td>-0.078803</td>\n",
       "      <td>0.085102</td>\n",
       "      <td>-0.255425</td>\n",
       "      <td>...</td>\n",
       "      <td>-0.225775</td>\n",
       "      <td>-0.638672</td>\n",
       "      <td>0.101288</td>\n",
       "      <td>-0.339846</td>\n",
       "      <td>0.167170</td>\n",
       "      <td>0.125895</td>\n",
       "      <td>-0.008983</td>\n",
       "      <td>0.014724</td>\n",
       "      <td>2.69</td>\n",
       "      <td>0</td>\n",
       "    </tr>\n",
       "    <tr>\n",
       "      <th>2</th>\n",
       "      <td>1.0</td>\n",
       "      <td>-1.358354</td>\n",
       "      <td>-1.340163</td>\n",
       "      <td>1.773209</td>\n",
       "      <td>0.379780</td>\n",
       "      <td>-0.503198</td>\n",
       "      <td>1.800499</td>\n",
       "      <td>0.791461</td>\n",
       "      <td>0.247676</td>\n",
       "      <td>-1.514654</td>\n",
       "      <td>...</td>\n",
       "      <td>0.247998</td>\n",
       "      <td>0.771679</td>\n",
       "      <td>0.909412</td>\n",
       "      <td>-0.689281</td>\n",
       "      <td>-0.327642</td>\n",
       "      <td>-0.139097</td>\n",
       "      <td>-0.055353</td>\n",
       "      <td>-0.059752</td>\n",
       "      <td>378.66</td>\n",
       "      <td>0</td>\n",
       "    </tr>\n",
       "    <tr>\n",
       "      <th>3</th>\n",
       "      <td>1.0</td>\n",
       "      <td>-0.966272</td>\n",
       "      <td>-0.185226</td>\n",
       "      <td>1.792993</td>\n",
       "      <td>-0.863291</td>\n",
       "      <td>-0.010309</td>\n",
       "      <td>1.247203</td>\n",
       "      <td>0.237609</td>\n",
       "      <td>0.377436</td>\n",
       "      <td>-1.387024</td>\n",
       "      <td>...</td>\n",
       "      <td>-0.108300</td>\n",
       "      <td>0.005274</td>\n",
       "      <td>-0.190321</td>\n",
       "      <td>-1.175575</td>\n",
       "      <td>0.647376</td>\n",
       "      <td>-0.221929</td>\n",
       "      <td>0.062723</td>\n",
       "      <td>0.061458</td>\n",
       "      <td>123.50</td>\n",
       "      <td>0</td>\n",
       "    </tr>\n",
       "    <tr>\n",
       "      <th>4</th>\n",
       "      <td>2.0</td>\n",
       "      <td>-1.158233</td>\n",
       "      <td>0.877737</td>\n",
       "      <td>1.548718</td>\n",
       "      <td>0.403034</td>\n",
       "      <td>-0.407193</td>\n",
       "      <td>0.095921</td>\n",
       "      <td>0.592941</td>\n",
       "      <td>-0.270533</td>\n",
       "      <td>0.817739</td>\n",
       "      <td>...</td>\n",
       "      <td>-0.009431</td>\n",
       "      <td>0.798278</td>\n",
       "      <td>-0.137458</td>\n",
       "      <td>0.141267</td>\n",
       "      <td>-0.206010</td>\n",
       "      <td>0.502292</td>\n",
       "      <td>0.219422</td>\n",
       "      <td>0.215153</td>\n",
       "      <td>69.99</td>\n",
       "      <td>0</td>\n",
       "    </tr>\n",
       "  </tbody>\n",
       "</table>\n",
       "<p>5 rows × 31 columns</p>\n",
       "</div>"
      ],
      "text/plain": [
       "   Time        V1        V2        V3        V4        V5        V6        V7  \\\n",
       "0   0.0 -1.359807 -0.072781  2.536347  1.378155 -0.338321  0.462388  0.239599   \n",
       "1   0.0  1.191857  0.266151  0.166480  0.448154  0.060018 -0.082361 -0.078803   \n",
       "2   1.0 -1.358354 -1.340163  1.773209  0.379780 -0.503198  1.800499  0.791461   \n",
       "3   1.0 -0.966272 -0.185226  1.792993 -0.863291 -0.010309  1.247203  0.237609   \n",
       "4   2.0 -1.158233  0.877737  1.548718  0.403034 -0.407193  0.095921  0.592941   \n",
       "\n",
       "         V8        V9  ...       V21       V22       V23       V24       V25  \\\n",
       "0  0.098698  0.363787  ... -0.018307  0.277838 -0.110474  0.066928  0.128539   \n",
       "1  0.085102 -0.255425  ... -0.225775 -0.638672  0.101288 -0.339846  0.167170   \n",
       "2  0.247676 -1.514654  ...  0.247998  0.771679  0.909412 -0.689281 -0.327642   \n",
       "3  0.377436 -1.387024  ... -0.108300  0.005274 -0.190321 -1.175575  0.647376   \n",
       "4 -0.270533  0.817739  ... -0.009431  0.798278 -0.137458  0.141267 -0.206010   \n",
       "\n",
       "        V26       V27       V28  Amount  Class  \n",
       "0 -0.189115  0.133558 -0.021053  149.62      0  \n",
       "1  0.125895 -0.008983  0.014724    2.69      0  \n",
       "2 -0.139097 -0.055353 -0.059752  378.66      0  \n",
       "3 -0.221929  0.062723  0.061458  123.50      0  \n",
       "4  0.502292  0.219422  0.215153   69.99      0  \n",
       "\n",
       "[5 rows x 31 columns]"
      ]
     },
     "execution_count": 3,
     "metadata": {},
     "output_type": "execute_result"
    }
   ],
   "source": [
    "data.head(5)"
   ]
  },
  {
   "cell_type": "markdown",
   "id": "9a6adb09-8009-4e26-b24e-7697f1063ac6",
   "metadata": {},
   "source": [
    "# Preprocessing"
   ]
  },
  {
   "cell_type": "code",
   "execution_count": 4,
   "id": "8d8e41e6-18a6-41c2-9185-000b7d49458a",
   "metadata": {},
   "outputs": [],
   "source": [
    "from sklearn.preprocessing import StandardScaler"
   ]
  },
  {
   "cell_type": "code",
   "execution_count": 5,
   "id": "177734f7-bac3-42b2-80ab-8dc022b035bb",
   "metadata": {},
   "outputs": [],
   "source": [
    "data['normalizedAmount'] = StandardScaler().fit_transform(data['Amount'].values.reshape(-1,1))"
   ]
  },
  {
   "cell_type": "code",
   "execution_count": 6,
   "id": "f5850380-e1ee-42f1-9c1e-e2138cd964a0",
   "metadata": {},
   "outputs": [],
   "source": [
    "data.drop('Amount', axis=1, inplace=True)"
   ]
  },
  {
   "cell_type": "code",
   "execution_count": 7,
   "id": "590fe434-1b0a-474c-803f-508d7a360899",
   "metadata": {},
   "outputs": [],
   "source": [
    "data.drop('Time', axis=1, inplace=True)"
   ]
  },
  {
   "cell_type": "code",
   "execution_count": 8,
   "id": "bb0c1cef-0614-436b-a388-95c951b4844d",
   "metadata": {},
   "outputs": [],
   "source": [
    "#splitting the dataset:\n",
    "\n",
    "X= data.iloc[:, data.columns != 'Class']"
   ]
  },
  {
   "cell_type": "code",
   "execution_count": 9,
   "id": "434105f1-a931-42b4-ad78-9945c11ea8e1",
   "metadata": {},
   "outputs": [],
   "source": [
    "y = data['Class']"
   ]
  },
  {
   "cell_type": "code",
   "execution_count": 10,
   "id": "254d875a-7679-45da-82c7-757a8f9c02d9",
   "metadata": {},
   "outputs": [
    {
     "data": {
      "text/plain": [
       "0         0\n",
       "1         0\n",
       "2         0\n",
       "3         0\n",
       "4         0\n",
       "         ..\n",
       "284802    0\n",
       "284803    0\n",
       "284804    0\n",
       "284805    0\n",
       "284806    0\n",
       "Name: Class, Length: 284807, dtype: int64"
      ]
     },
     "execution_count": 10,
     "metadata": {},
     "output_type": "execute_result"
    }
   ],
   "source": [
    "y"
   ]
  },
  {
   "cell_type": "code",
   "execution_count": 11,
   "id": "09bd596e-4c8a-4d72-8a10-f0a0be0b7b90",
   "metadata": {},
   "outputs": [],
   "source": [
    "from sklearn.model_selection import train_test_split\n",
    "X_train, X_test, y_train, y_test = train_test_split(X, y, test_size=0.3, random_state=0)"
   ]
  },
  {
   "cell_type": "code",
   "execution_count": 12,
   "id": "3957df81-c5ac-4066-97fb-4bd3c3b1caba",
   "metadata": {},
   "outputs": [
    {
     "data": {
      "text/plain": [
       "(199364, 29)"
      ]
     },
     "execution_count": 12,
     "metadata": {},
     "output_type": "execute_result"
    }
   ],
   "source": [
    "X_train.shape"
   ]
  },
  {
   "cell_type": "code",
   "execution_count": 13,
   "id": "05eaeeab-55b1-4e82-8797-3cc90fdbb660",
   "metadata": {},
   "outputs": [
    {
     "data": {
      "text/plain": [
       "(85443, 29)"
      ]
     },
     "execution_count": 13,
     "metadata": {},
     "output_type": "execute_result"
    }
   ],
   "source": [
    "X_test.shape"
   ]
  },
  {
   "cell_type": "code",
   "execution_count": 14,
   "id": "d3a72e78-3cd8-4d33-a654-89c53cd3634d",
   "metadata": {},
   "outputs": [],
   "source": [
    "X_train = np.array(X_train)\n",
    "X_test = np.array(X_test)\n",
    "y_train = np.array(y_train)\n",
    "y_test = np.array(y_test)"
   ]
  },
  {
   "cell_type": "markdown",
   "id": "e5323855-fd26-4ad4-9217-b719574dcf56",
   "metadata": {},
   "source": [
    "# Deep Neural Network"
   ]
  },
  {
   "cell_type": "code",
   "execution_count": 15,
   "id": "b6eaa4e2-f208-4d79-9b0c-db238e48041b",
   "metadata": {},
   "outputs": [],
   "source": [
    "from tensorflow.keras.models import Sequential\n",
    "from tensorflow.keras.layers import Dropout, Dense"
   ]
  },
  {
   "cell_type": "code",
   "execution_count": 16,
   "id": "f7343427-8120-4a12-ac33-caf687480bd7",
   "metadata": {},
   "outputs": [],
   "source": [
    "model =  Sequential([\n",
    "    Dense(units=16,input_dim=29, activation='relu'),  #how many cols in input=no of cols in df \n",
    "    Dense(units=24, activation='relu'),\n",
    "    Dropout(0.5),\n",
    "    Dense(units=20, activation='relu'),\n",
    "    Dense(units=24, activation='relu'),\n",
    "    Dense(1, activation='sigmoid')])"
   ]
  },
  {
   "cell_type": "code",
   "execution_count": 17,
   "id": "ec326c29-5be7-45c0-b2d3-d449157ac889",
   "metadata": {},
   "outputs": [
    {
     "name": "stdout",
     "output_type": "stream",
     "text": [
      "Model: \"sequential\"\n",
      "_________________________________________________________________\n",
      " Layer (type)                Output Shape              Param #   \n",
      "=================================================================\n",
      " dense (Dense)               (None, 16)                480       \n",
      "                                                                 \n",
      " dense_1 (Dense)             (None, 24)                408       \n",
      "                                                                 \n",
      " dropout (Dropout)           (None, 24)                0         \n",
      "                                                                 \n",
      " dense_2 (Dense)             (None, 20)                500       \n",
      "                                                                 \n",
      " dense_3 (Dense)             (None, 24)                504       \n",
      "                                                                 \n",
      " dense_4 (Dense)             (None, 1)                 25        \n",
      "                                                                 \n",
      "=================================================================\n",
      "Total params: 1,917\n",
      "Trainable params: 1,917\n",
      "Non-trainable params: 0\n",
      "_________________________________________________________________\n"
     ]
    }
   ],
   "source": [
    "model.summary()"
   ]
  },
  {
   "cell_type": "markdown",
   "id": "c33c7b72-b5df-46a3-a824-edc6cae8295a",
   "metadata": {},
   "source": [
    "# Model Training"
   ]
  },
  {
   "cell_type": "code",
   "execution_count": 18,
   "id": "43843a48-3ee1-4d8f-880a-aa2975656749",
   "metadata": {},
   "outputs": [
    {
     "name": "stdout",
     "output_type": "stream",
     "text": [
      "Epoch 1/5\n",
      "13291/13291 [==============================] - 65s 5ms/step - loss: 0.0089 - accuracy: 0.9984\n",
      "Epoch 2/5\n",
      "13291/13291 [==============================] - 62s 5ms/step - loss: 0.0040 - accuracy: 0.9994\n",
      "Epoch 3/5\n",
      "13291/13291 [==============================] - 65s 5ms/step - loss: 0.0035 - accuracy: 0.9994\n",
      "Epoch 4/5\n",
      "13291/13291 [==============================] - 63s 5ms/step - loss: 0.0036 - accuracy: 0.9994\n",
      "Epoch 5/5\n",
      "13291/13291 [==============================] - 68s 5ms/step - loss: 0.0035 - accuracy: 0.9994\n"
     ]
    },
    {
     "data": {
      "text/plain": [
       "<keras.callbacks.History at 0x153aec31fa0>"
      ]
     },
     "execution_count": 18,
     "metadata": {},
     "output_type": "execute_result"
    }
   ],
   "source": [
    "model.compile(optimizer='adam', loss='binary_crossentropy', metrics='accuracy')\n",
    "model.fit(X_train, y_train, batch_size=15, epochs=5)"
   ]
  },
  {
   "cell_type": "code",
   "execution_count": 19,
   "id": "1d86b558-2e26-4c3a-9209-41fe34d9dacf",
   "metadata": {},
   "outputs": [
    {
     "name": "stdout",
     "output_type": "stream",
     "text": [
      "2671/2671 [==============================] - 10s 4ms/step - loss: 0.0039 - accuracy: 0.9994\n"
     ]
    }
   ],
   "source": [
    "score = model.evaluate(X_test, y_test)"
   ]
  },
  {
   "cell_type": "code",
   "execution_count": 20,
   "id": "0877fcd5-4598-4a8b-a438-1d7b561131ba",
   "metadata": {},
   "outputs": [
    {
     "name": "stdout",
     "output_type": "stream",
     "text": [
      "[0.003851556684821844, 0.9993796944618225]\n"
     ]
    }
   ],
   "source": [
    "print(score)"
   ]
  },
  {
   "cell_type": "markdown",
   "id": "bf7d5f28-42bb-443b-8afa-36b4da40d7db",
   "metadata": {},
   "source": [
    "# Confusion Matrix:"
   ]
  },
  {
   "cell_type": "code",
   "execution_count": 21,
   "id": "6c7a5314-a32e-44a0-b623-8c7703cf2459",
   "metadata": {},
   "outputs": [],
   "source": [
    "from sklearn.metrics import confusion_matrix, ConfusionMatrixDisplay"
   ]
  },
  {
   "cell_type": "code",
   "execution_count": 22,
   "id": "08fda63f-75dd-4094-a5a3-9a1a2f6f81a2",
   "metadata": {},
   "outputs": [
    {
     "name": "stdout",
     "output_type": "stream",
     "text": [
      "2671/2671 [==============================] - 8s 3ms/step\n"
     ]
    }
   ],
   "source": [
    "y_pred = model.predict(X_test)"
   ]
  },
  {
   "cell_type": "code",
   "execution_count": 23,
   "id": "3996ba62-be72-44b5-8e85-d9b5cc48a30e",
   "metadata": {},
   "outputs": [],
   "source": [
    "y_test = pd.DataFrame(y_test)"
   ]
  },
  {
   "cell_type": "code",
   "execution_count": 24,
   "id": "d77827af-ea3e-489b-bc47-015a87d61f18",
   "metadata": {},
   "outputs": [],
   "source": [
    "cm = confusion_matrix(y_test, y_pred.round() )"
   ]
  },
  {
   "cell_type": "code",
   "execution_count": 25,
   "id": "84fd380a-83ab-4159-ae29-60dbfa2f48a9",
   "metadata": {},
   "outputs": [
    {
     "data": {
      "text/plain": [
       "array([[85276,    20],\n",
       "       [   33,   114]], dtype=int64)"
      ]
     },
     "execution_count": 25,
     "metadata": {},
     "output_type": "execute_result"
    }
   ],
   "source": [
    "cm"
   ]
  },
  {
   "cell_type": "code",
   "execution_count": 26,
   "id": "8df417f5-9b06-45e0-a9d1-b4935f314409",
   "metadata": {},
   "outputs": [
    {
     "data": {
      "image/png": "[encoded data removed]",
      "text/plain": [
       "<Figure size 432x288 with 2 Axes>"
      ]
     },
     "metadata": {
      "needs_background": "light"
     },
     "output_type": "display_data"
    }
   ],
   "source": [
    "disp = ConfusionMatrixDisplay(confusion_matrix=cm,display_labels=[0,1])\n",
    "disp.plot()\n",
    "plt.show()   "
   ]
  },
  {
   "cell_type": "code",
   "execution_count": 27,
   "id": "3dea1b70-5b6f-4922-b795-27bf1a6f5a85",
   "metadata": {},
   "outputs": [
    {
     "name": "stdout",
     "output_type": "stream",
     "text": [
      "8901/8901 [==============================] - 28s 3ms/step\n"
     ]
    }
   ],
   "source": [
    "#testing on whole dataset:\n",
    "y_pred_whole = model.predict(X)\n",
    "y_expected = pd.DataFrame(y)"
   ]
  },
  {
   "cell_type": "code",
   "execution_count": 28,
   "id": "ece19e84-63de-4948-8541-8cae7f40f047",
   "metadata": {},
   "outputs": [
    {
     "data": {
      "image/png": "[encoded data removed]",
      "text/plain": [
       "<Figure size 432x288 with 2 Axes>"
      ]
     },
     "metadata": {
      "needs_background": "light"
     },
     "output_type": "display_data"
    }
   ],
   "source": [
    "cm = confusion_matrix(y_expected, y_pred_whole.round() )\n",
    "disp = ConfusionMatrixDisplay(confusion_matrix=cm,display_labels=[0,1])\n",
    "disp.plot()\n",
    "plt.show() "
   ]
  },
  {
   "cell_type": "markdown",
   "id": "03903404-d610-4095-97b2-7e50e93657ab",
   "metadata": {},
   "source": [
    "# Random Forest "
   ]
  },
  {
   "cell_type": "code",
   "execution_count": 29,
   "id": "cbbb08f9-a878-4bc3-bf57-e203fbf7b80e",
   "metadata": {},
   "outputs": [],
   "source": [
    "from sklearn.ensemble import RandomForestClassifier"
   ]
  },
  {
   "cell_type": "code",
   "execution_count": 30,
   "id": "4d2c9802-7f64-4bcd-ac83-b94e6fc9b2e0",
   "metadata": {},
   "outputs": [],
   "source": [
    "rf = RandomForestClassifier(n_estimators=100)"
   ]
  },
  {
   "cell_type": "code",
   "execution_count": 31,
   "id": "f6e2d909-1023-4894-9e2a-cb3949cd63e2",
   "metadata": {},
   "outputs": [
    {
     "data": {
      "text/plain": [
       "RandomForestClassifier()"
      ]
     },
     "execution_count": 31,
     "metadata": {},
     "output_type": "execute_result"
    }
   ],
   "source": [
    "rf.fit(X_train, y_train)"
   ]
  },
  {
   "cell_type": "code",
   "execution_count": 32,
   "id": "aae23f5b-41cf-4937-8378-efafbe717282",
   "metadata": {},
   "outputs": [],
   "source": [
    "y_pred = rf.predict(X_test)"
   ]
  },
  {
   "cell_type": "code",
   "execution_count": 33,
   "id": "352b86b3-aa06-4040-9880-640217e1f7d1",
   "metadata": {},
   "outputs": [
    {
     "data": {
      "text/plain": [
       "0.9995084442259752"
      ]
     },
     "execution_count": 33,
     "metadata": {},
     "output_type": "execute_result"
    }
   ],
   "source": [
    "rf.score(X_test, y_test)"
   ]
  },
  {
   "cell_type": "code",
   "execution_count": 34,
   "id": "61fb2d55-aaf7-427a-bff2-1a9593910d5e",
   "metadata": {},
   "outputs": [
    {
     "data": {
      "image/png": "[encoded data removed]",
      "text/plain": [
       "<Figure size 432x288 with 2 Axes>"
      ]
     },
     "metadata": {
      "needs_background": "light"
     },
     "output_type": "display_data"
    }
   ],
   "source": [
    "cm = confusion_matrix(y_test, y_pred.round() )\n",
    "disp = ConfusionMatrixDisplay(confusion_matrix=cm,display_labels=[0,1])\n",
    "disp.plot()\n",
    "plt.show() "
   ]
  },
  {
   "cell_type": "code",
   "execution_count": 35,
   "id": "9767e233-aceb-420f-9402-1af2a938a790",
   "metadata": {},
   "outputs": [
    {
     "name": "stderr",
     "output_type": "stream",
     "text": [
      "C:\\Users\\shubham.rangate\\Anaconda3\\envs\\machine_learning\\lib\\site-packages\\sklearn\\base.py:443: UserWarning: X has feature names, but RandomForestClassifier was fitted without feature names\n",
      "  warnings.warn(\n"
     ]
    }
   ],
   "source": [
    "#testing on whole dataset:\n",
    "y_pred_whole = rf.predict(X)\n",
    "y_expected = pd.DataFrame(y)"
   ]
  },
  {
   "cell_type": "code",
   "execution_count": 36,
   "id": "a2f70295-cec2-4bff-96b6-c3401c7c0555",
   "metadata": {},
   "outputs": [
    {
     "data": {
      "image/png": "[encoded data removed]",
      "text/plain": [
       "<Figure size 432x288 with 2 Axes>"
      ]
     },
     "metadata": {
      "needs_background": "light"
     },
     "output_type": "display_data"
    }
   ],
   "source": [
    "cm = confusion_matrix(y_expected, y_pred_whole.round() )\n",
    "disp = ConfusionMatrixDisplay(confusion_matrix=cm,display_labels=[0,1])\n",
    "disp.plot()\n",
    "plt.show() "
   ]
  },
  {
   "cell_type": "code",
   "execution_count": null,
   "id": "7b4e7254-1d44-48dc-b232-a5f5ac2f0cc6",
   "metadata": {},
   "outputs": [],
   "source": []
  },
  {
   "cell_type": "markdown",
   "id": "f539a14d-7add-4d2d-b000-759923a0d2e7",
   "metadata": {},
   "source": [
    "# Decision Tree"
   ]
  },
  {
   "cell_type": "code",
   "execution_count": 37,
   "id": "912f1643-c879-4bc2-bacd-60e5ed9b21e7",
   "metadata": {},
   "outputs": [],
   "source": [
    "from sklearn.tree import DecisionTreeClassifier"
   ]
  },
  {
   "cell_type": "code",
   "execution_count": 38,
   "id": "031c72ea-a673-4f4a-8448-5960660ae69b",
   "metadata": {},
   "outputs": [],
   "source": [
    "decision_tree = DecisionTreeClassifier()"
   ]
  },
  {
   "cell_type": "code",
   "execution_count": 39,
   "id": "1e51aadc-a77d-4676-a1b2-d63eb115770b",
   "metadata": {},
   "outputs": [
    {
     "data": {
      "text/plain": [
       "DecisionTreeClassifier()"
      ]
     },
     "execution_count": 39,
     "metadata": {},
     "output_type": "execute_result"
    }
   ],
   "source": [
    "decision_tree.fit(X_train, y_train)"
   ]
  },
  {
   "cell_type": "code",
   "execution_count": 40,
   "id": "03d674eb-7d29-4a78-9521-06144fd9502e",
   "metadata": {},
   "outputs": [],
   "source": [
    "y_pred = decision_tree.predict(X_test)"
   ]
  },
  {
   "cell_type": "code",
   "execution_count": 41,
   "id": "fab4f815-bde6-4797-985e-012ed65ef566",
   "metadata": {},
   "outputs": [
    {
     "data": {
      "text/plain": [
       "0.9992509626300574"
      ]
     },
     "execution_count": 41,
     "metadata": {},
     "output_type": "execute_result"
    }
   ],
   "source": [
    "decision_tree.score(X_test, y_test)"
   ]
  },
  {
   "cell_type": "code",
   "execution_count": 42,
   "id": "6dd4703f-04d8-4697-9327-1cfef487ea3b",
   "metadata": {},
   "outputs": [
    {
     "data": {
      "image/png": "[encoded data removed]",
      "text/plain": [
       "<Figure size 432x288 with 2 Axes>"
      ]
     },
     "metadata": {
      "needs_background": "light"
     },
     "output_type": "display_data"
    }
   ],
   "source": [
    "cm = confusion_matrix(y_test, y_pred.round() )\n",
    "disp = ConfusionMatrixDisplay(confusion_matrix=cm,display_labels=[0,1])\n",
    "disp.plot()\n",
    "plt.show() "
   ]
  },
  {
   "cell_type": "code",
   "execution_count": 43,
   "id": "dcc338aa-d78f-454a-a8a9-ae856c2a1c91",
   "metadata": {},
   "outputs": [
    {
     "name": "stderr",
     "output_type": "stream",
     "text": [
      "C:\\Users\\shubham.rangate\\Anaconda3\\envs\\machine_learning\\lib\\site-packages\\sklearn\\base.py:443: UserWarning: X has feature names, but DecisionTreeClassifier was fitted without feature names\n",
      "  warnings.warn(\n"
     ]
    }
   ],
   "source": [
    "#testing on whole dataset:\n",
    "y_pred_whole = decision_tree.predict(X)\n",
    "y_expected = pd.DataFrame(y)"
   ]
  },
  {
   "cell_type": "code",
   "execution_count": 44,
   "id": "40d49fd2-9d98-4740-a266-fa7f179a98c1",
   "metadata": {},
   "outputs": [
    {
     "data": {
      "image/png": "[encoded data removed]",
      "text/plain": [
       "<Figure size 432x288 with 2 Axes>"
      ]
     },
     "metadata": {
      "needs_background": "light"
     },
     "output_type": "display_data"
    }
   ],
   "source": [
    "cm = confusion_matrix(y_expected, y_pred_whole.round() )\n",
    "disp = ConfusionMatrixDisplay(confusion_matrix=cm,display_labels=[0,1])\n",
    "disp.plot()\n",
    "plt.show() "
   ]
  },
  {
   "cell_type": "markdown",
   "id": "59095e8d-8e22-402b-9a2d-75233de32291",
   "metadata": {},
   "source": [
    "# Undersampling"
   ]
  },
  {
   "cell_type": "code",
   "execution_count": 45,
   "id": "39d504fc-e261-4a88-8352-a70581ce3b51",
   "metadata": {},
   "outputs": [],
   "source": [
    "fraud_indices = np.array(data[data.Class==1].index)\n",
    "fraud_records_count  = len(fraud_indices)"
   ]
  },
  {
   "cell_type": "code",
   "execution_count": 46,
   "id": "2880e291-39bd-48a4-b4a4-67cd597772e1",
   "metadata": {},
   "outputs": [
    {
     "data": {
      "text/plain": [
       "492"
      ]
     },
     "execution_count": 46,
     "metadata": {},
     "output_type": "execute_result"
    }
   ],
   "source": [
    "fraud_records_count"
   ]
  },
  {
   "cell_type": "code",
   "execution_count": 47,
   "id": "08bd6ebf-f1c7-4dce-933e-54627972a777",
   "metadata": {},
   "outputs": [],
   "source": [
    "normal_indices = np.array(data[data.Class==0].index)"
   ]
  },
  {
   "cell_type": "code",
   "execution_count": 48,
   "id": "423c2977-2a75-4490-b0af-ab810b62b74f",
   "metadata": {},
   "outputs": [
    {
     "name": "stdout",
     "output_type": "stream",
     "text": [
      "492\n"
     ]
    }
   ],
   "source": [
    "random_normal_indices = np.random.choice(normal_indices, fraud_records_count, replace=False)\n",
    "print(len(random_normal_indices))"
   ]
  },
  {
   "cell_type": "code",
   "execution_count": 49,
   "id": "db8ea87a-2319-4be7-a1dc-2e01256d5a41",
   "metadata": {},
   "outputs": [],
   "source": [
    "under_sample_indices = np.concatenate([fraud_indices, random_normal_indices])"
   ]
  },
  {
   "cell_type": "code",
   "execution_count": 50,
   "id": "6649d93e-dc66-4a92-a321-a0890a4268bd",
   "metadata": {},
   "outputs": [],
   "source": [
    "under_sample_data = data.iloc[under_sample_indices]"
   ]
  },
  {
   "cell_type": "code",
   "execution_count": 51,
   "id": "9492d6ff-4326-4a0b-b141-37d625e39f59",
   "metadata": {},
   "outputs": [],
   "source": [
    "X_undersample = under_sample_data.iloc[:, under_sample_data.columns != 'Class']\n",
    "y_undersample = under_sample_data['Class']"
   ]
  },
  {
   "cell_type": "code",
   "execution_count": 52,
   "id": "83c08b9e-18c3-4636-8325-890847b785b6",
   "metadata": {},
   "outputs": [],
   "source": [
    "X_train, X_test, y_train, y_test = train_test_split(X_undersample, y_undersample, test_size=0.3)"
   ]
  },
  {
   "cell_type": "code",
   "execution_count": 53,
   "id": "fb35e893-9af3-4d3a-bb29-0925a4108544",
   "metadata": {},
   "outputs": [],
   "source": [
    "X_train = np.array(X_train)\n",
    "y_train = np.array(y_train)\n",
    "X_test = np.array(X_test)\n",
    "y_test = np.array(y_test)"
   ]
  },
  {
   "cell_type": "code",
   "execution_count": 54,
   "id": "45c2c5b1-4dc0-4bb1-9387-6efeaae92c8a",
   "metadata": {},
   "outputs": [
    {
     "name": "stdout",
     "output_type": "stream",
     "text": [
      "Model: \"sequential\"\n",
      "_________________________________________________________________\n",
      " Layer (type)                Output Shape              Param #   \n",
      "=================================================================\n",
      " dense (Dense)               (None, 16)                480       \n",
      "                                                                 \n",
      " dense_1 (Dense)             (None, 24)                408       \n",
      "                                                                 \n",
      " dropout (Dropout)           (None, 24)                0         \n",
      "                                                                 \n",
      " dense_2 (Dense)             (None, 20)                500       \n",
      "                                                                 \n",
      " dense_3 (Dense)             (None, 24)                504       \n",
      "                                                                 \n",
      " dense_4 (Dense)             (None, 1)                 25        \n",
      "                                                                 \n",
      "=================================================================\n",
      "Total params: 1,917\n",
      "Trainable params: 1,917\n",
      "Non-trainable params: 0\n",
      "_________________________________________________________________\n"
     ]
    }
   ],
   "source": [
    "#use previous model to train and test:\n",
    "model.summary()"
   ]
  },
  {
   "cell_type": "code",
   "execution_count": 55,
   "id": "36312117-4007-48ca-abe9-a93e9b5323ee",
   "metadata": {},
   "outputs": [
    {
     "name": "stdout",
     "output_type": "stream",
     "text": [
      "Epoch 1/5\n",
      "46/46 [==============================] - 2s 5ms/step - loss: 0.4334 - accuracy: 0.9012\n",
      "Epoch 2/5\n",
      "46/46 [==============================] - 0s 5ms/step - loss: 0.2307 - accuracy: 0.9186\n",
      "Epoch 3/5\n",
      "46/46 [==============================] - 0s 5ms/step - loss: 0.1951 - accuracy: 0.9288\n",
      "Epoch 4/5\n",
      "46/46 [==============================] - 0s 4ms/step - loss: 0.1697 - accuracy: 0.9375\n",
      "Epoch 5/5\n",
      "46/46 [==============================] - 0s 4ms/step - loss: 0.1464 - accuracy: 0.9375\n"
     ]
    },
    {
     "data": {
      "text/plain": [
       "<keras.callbacks.History at 0x153ba627fd0>"
      ]
     },
     "execution_count": 55,
     "metadata": {},
     "output_type": "execute_result"
    }
   ],
   "source": [
    "model.compile(optimizer='adam', loss='binary_crossentropy', metrics='accuracy')\n",
    "model.fit(X_train, y_train, batch_size=15, epochs=5)"
   ]
  },
  {
   "cell_type": "code",
   "execution_count": 56,
   "id": "0c3125fd-1fdc-41ad-a9a2-10ec2b7fd293",
   "metadata": {},
   "outputs": [
    {
     "name": "stdout",
     "output_type": "stream",
     "text": [
      "10/10 [==============================] - 0s 4ms/step\n"
     ]
    }
   ],
   "source": [
    "y_pred = model.predict(X_test)"
   ]
  },
  {
   "cell_type": "code",
   "execution_count": 57,
   "id": "acb44007-452f-4d10-8d80-c3fb0a1e1200",
   "metadata": {},
   "outputs": [
    {
     "data": {
      "image/png": "[encoded data removed]",
      "text/plain": [
       "<Figure size 432x288 with 2 Axes>"
      ]
     },
     "metadata": {
      "needs_background": "light"
     },
     "output_type": "display_data"
    }
   ],
   "source": [
    "cm = confusion_matrix(y_test, y_pred.round())\n",
    "disp = ConfusionMatrixDisplay(confusion_matrix=cm,display_labels=[0,1])\n",
    "disp.plot()\n",
    "plt.show() "
   ]
  },
  {
   "cell_type": "code",
   "execution_count": 58,
   "id": "3ac33ee4-5711-4eed-9d85-ab9cc281296f",
   "metadata": {},
   "outputs": [],
   "source": [
    "#we observe some improvement in results after undersampling"
   ]
  },
  {
   "cell_type": "markdown",
   "id": "4421efa4-b9d5-4439-925f-99c83044ed64",
   "metadata": {},
   "source": [
    "# SMOTE"
   ]
  },
  {
   "cell_type": "code",
   "execution_count": 59,
   "id": "d6df3a66-dee1-424c-90dd-76510be6b13f",
   "metadata": {},
   "outputs": [],
   "source": [
    "#Oversampling technique\n",
    "# !pip install -U imbalanced-learn"
   ]
  },
  {
   "cell_type": "code",
   "execution_count": 60,
   "id": "2e6be24e-84a7-4aee-bf59-ded6cfe00a50",
   "metadata": {},
   "outputs": [],
   "source": [
    "from imblearn.over_sampling import SMOTE"
   ]
  },
  {
   "cell_type": "code",
   "execution_count": 61,
   "id": "3ecd464a-52fc-46b6-8774-eb19b2a648ea",
   "metadata": {},
   "outputs": [],
   "source": [
    "X_resample, y_resample = SMOTE().fit_resample(X, y.values.ravel())"
   ]
  },
  {
   "cell_type": "code",
   "execution_count": 62,
   "id": "d9776c50-5705-495e-9efe-5221c8e6afc0",
   "metadata": {},
   "outputs": [],
   "source": [
    "X_resample = pd.DataFrame(X_resample)\n",
    "y_resample = pd.DataFrame(y_resample)"
   ]
  },
  {
   "cell_type": "code",
   "execution_count": 63,
   "id": "9b8b0e82-e1f1-461a-9871-028fc9ac185f",
   "metadata": {},
   "outputs": [],
   "source": [
    "X_train, X_test, y_train, y_test = train_test_split(X_resample, y_resample, test_size=0.3)"
   ]
  },
  {
   "cell_type": "code",
   "execution_count": 64,
   "id": "f4d2d75a-953b-45be-b4d7-e04906d8abb6",
   "metadata": {},
   "outputs": [],
   "source": [
    "X_train = np.array(X_train)\n",
    "y_train = np.array(y_train)\n",
    "X_test = np.array(X_test)\n",
    "y_test = np.array(y_test)"
   ]
  },
  {
   "cell_type": "code",
   "execution_count": 65,
   "id": "e65e75be-7250-42e0-b8d3-c55856798c7e",
   "metadata": {},
   "outputs": [
    {
     "name": "stdout",
     "output_type": "stream",
     "text": [
      "Epoch 1/5\n",
      "26537/26537 [==============================] - 122s 5ms/step - loss: 0.0104 - accuracy: 0.9973\n",
      "Epoch 4/5\n",
      "26537/26537 [==============================] - 121s 5ms/step - loss: 0.0093 - accuracy: 0.9978\n",
      "Epoch 5/5\n",
      "26537/26537 [==============================] - 101s 4ms/step - loss: 0.0085 - accuracy: 0.9980\n"
     ]
    },
    {
     "data": {
      "text/plain": [
       "<keras.callbacks.History at 0x153a9b17c40>"
      ]
     },
     "execution_count": 65,
     "metadata": {},
     "output_type": "execute_result"
    }
   ],
   "source": [
    "model.compile(optimizer='adam', loss='binary_crossentropy', metrics='accuracy')\n",
    "model.fit(X_train, y_train, batch_size=15, epochs=5)"
   ]
  },
  {
   "cell_type": "code",
   "execution_count": 66,
   "id": "0354113e-3a33-4359-9853-ebc836b5d94f",
   "metadata": {},
   "outputs": [
    {
     "name": "stdout",
     "output_type": "stream",
     "text": [
      "5331/5331 [==============================] - 8s 1ms/step\n"
     ]
    }
   ],
   "source": [
    "y_pred = model.predict(X_test)"
   ]
  },
  {
   "cell_type": "code",
   "execution_count": 67,
   "id": "6fa43a49-ccd6-4818-b578-80ea12127028",
   "metadata": {},
   "outputs": [
    {
     "data": {
      "image/png": "[encoded data removed]",
      "text/plain": [
       "<Figure size 432x288 with 2 Axes>"
      ]
     },
     "metadata": {
      "needs_background": "light"
     },
     "output_type": "display_data"
    }
   ],
   "source": [
    "cm = confusion_matrix(y_test, y_pred.round())\n",
    "disp = ConfusionMatrixDisplay(confusion_matrix=cm,display_labels=[0,1])\n",
    "disp.plot()\n",
    "plt.show() "
   ]
  },
  {
   "cell_type": "code",
   "execution_count": 68,
   "id": "574d70f3-92d2-4f6a-9785-8a8037f54840",
   "metadata": {},
   "outputs": [],
   "source": [
    "#we observed a way better improvement using SMOTE technique"
   ]
  },
  {
   "cell_type": "code",
   "execution_count": null,
   "id": "147eab54-709d-4e9f-8fae-904245b2855c",
   "metadata": {},
   "outputs": [],
   "source": []
  }
 ],
 "metadata": {
  "kernelspec": {
   "display_name": "Python 3 (ipykernel)",
   "language": "python",
   "name": "python3"
  },
  "language_info": {
   "codemirror_mode": {
    "name": "ipython",
    "version": 3
   },
   "file_extension": ".py",
   "mimetype": "text/x-python",
   "name": "python",
   "nbconvert_exporter": "python",
   "pygments_lexer": "ipython3",
   "version": "3.9.7"
  }
 },
 "nbformat": 4,
 "nbformat_minor": 5
}
